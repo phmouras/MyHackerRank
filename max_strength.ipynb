{
  "nbformat": 4,
  "nbformat_minor": 0,
  "metadata": {
    "colab": {
      "provenance": [],
      "authorship_tag": "ABX9TyPqZAVtxYepqKcxy3caF3Ze",
      "include_colab_link": true
    },
    "kernelspec": {
      "name": "python3",
      "display_name": "Python 3"
    },
    "language_info": {
      "name": "python"
    }
  },
  "cells": [
    {
      "cell_type": "markdown",
      "metadata": {
        "id": "view-in-github",
        "colab_type": "text"
      },
      "source": [
        "<a href=\"https://colab.research.google.com/github/phmouras/MyHackerRank/blob/main/max_strength.ipynb\" target=\"_parent\"><img src=\"https://colab.research.google.com/assets/colab-badge.svg\" alt=\"Open In Colab\"/></a>"
      ]
    },
    {
      "cell_type": "code",
      "execution_count": null,
      "metadata": {
        "id": "SxxP_Z_BbtYQ"
      },
      "outputs": [],
      "source": [
        "\n",
        "\n",
        "def maxStrength(n):\n",
        "    no_players = []\n",
        "    no_players.append(n)\n",
        "    for i in no_players:\n",
        "        no_players.append(n)\n",
        "        for j in n:\n",
        "            j = 1\n",
        "            while j < n:\n",
        "                j *= 1\n",
        "            else:\n",
        "                no_players.append(j)"
      ]
    }
  ]
}