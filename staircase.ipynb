{
  "nbformat": 4,
  "nbformat_minor": 0,
  "metadata": {
    "colab": {
      "provenance": [],
      "authorship_tag": "ABX9TyPhdQ/kLSkrg3TQ9XrAdcP7",
      "include_colab_link": true
    },
    "kernelspec": {
      "name": "python3",
      "display_name": "Python 3"
    },
    "language_info": {
      "name": "python"
    }
  },
  "cells": [
    {
      "cell_type": "markdown",
      "metadata": {
        "id": "view-in-github",
        "colab_type": "text"
      },
      "source": [
        "<a href=\"https://colab.research.google.com/github/phmouras/MyHackerRank/blob/main/staircase.ipynb\" target=\"_parent\"><img src=\"https://colab.research.google.com/assets/colab-badge.svg\" alt=\"Open In Colab\"/></a>"
      ]
    },
    {
      "cell_type": "code",
      "execution_count": 19,
      "metadata": {
        "colab": {
          "base_uri": "https://localhost:8080/"
        },
        "id": "Kp3nQ7lD382A",
        "outputId": "a7499871-8e67-4c02-e835-cd8856bedb9b"
      },
      "outputs": [
        {
          "output_type": "stream",
          "name": "stdout",
          "text": [
            "          \n",
            "         #\n",
            "        ##\n",
            "       ###\n",
            "      ####\n",
            "     #####\n",
            "    ######\n",
            "   #######\n",
            "  ########\n",
            " #########\n"
          ]
        }
      ],
      "source": [
        "\n",
        "\n",
        "def staircase(n):\n",
        "    for i in range(n):\n",
        "      piramid = i*'#'\n",
        "      print(f\"{piramid : >10}\")\n",
        "    # Write your code here\n",
        "staircase(10)\n",
        "\n"
      ]
    },
    {
      "cell_type": "code",
      "source": [],
      "metadata": {
        "id": "ec-EPnpT4D6D"
      },
      "execution_count": null,
      "outputs": []
    }
  ]
}