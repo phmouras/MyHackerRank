{
  "nbformat": 4,
  "nbformat_minor": 0,
  "metadata": {
    "colab": {
      "provenance": [],
      "authorship_tag": "ABX9TyO2n3g0BJdEyan6hBvbBjlG",
      "include_colab_link": true
    },
    "kernelspec": {
      "name": "python3",
      "display_name": "Python 3"
    },
    "language_info": {
      "name": "python"
    }
  },
  "cells": [
    {
      "cell_type": "markdown",
      "metadata": {
        "id": "view-in-github",
        "colab_type": "text"
      },
      "source": [
        "<a href=\"https://colab.research.google.com/github/phmouras/MyHackerRank/blob/main/staircase.ipynb\" target=\"_parent\"><img src=\"https://colab.research.google.com/assets/colab-badge.svg\" alt=\"Open In Colab\"/></a>"
      ]
    },
    {
      "cell_type": "code",
      "execution_count": 21,
      "metadata": {
        "colab": {
          "base_uri": "https://localhost:8080/"
        },
        "id": "Kp3nQ7lD382A",
        "outputId": "460e66ab-b12a-4554-c92f-659dd0494d31"
      },
      "outputs": [
        {
          "output_type": "stream",
          "name": "stdout",
          "text": [
            "         #\n",
            "        ##\n",
            "       ###\n",
            "      ####\n",
            "     #####\n",
            "    ######\n",
            "   #######\n",
            "  ########\n",
            " #########\n",
            "##########\n"
          ]
        }
      ],
      "source": [
        "\n",
        "\n",
        "def staircase(n):\n",
        "    for i in range(n):\n",
        "      piramid = (i+1)*'#'\n",
        "      print(piramid.rjust(n))\n",
        "    # Write your code here\n",
        "\n",
        "\n",
        "staircase(10)\n",
        "\n"
      ]
    },
    {
      "cell_type": "code",
      "source": [],
      "metadata": {
        "id": "ec-EPnpT4D6D"
      },
      "execution_count": null,
      "outputs": []
    }
  ]
}