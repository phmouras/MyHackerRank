{
  "nbformat": 4,
  "nbformat_minor": 0,
  "metadata": {
    "colab": {
      "provenance": [],
      "authorship_tag": "ABX9TyM4EASPxvzoWqUhbUsgtUgo",
      "include_colab_link": true
    },
    "kernelspec": {
      "name": "python3",
      "display_name": "Python 3"
    },
    "language_info": {
      "name": "python"
    }
  },
  "cells": [
    {
      "cell_type": "markdown",
      "metadata": {
        "id": "view-in-github",
        "colab_type": "text"
      },
      "source": [
        "<a href=\"https://colab.research.google.com/github/phmouras/MyHackerRank/blob/main/Find_median.ipynb\" target=\"_parent\"><img src=\"https://colab.research.google.com/assets/colab-badge.svg\" alt=\"Open In Colab\"/></a>"
      ]
    },
    {
      "cell_type": "code",
      "source": [
        "arr = list(input('Put your list number:'))\n",
        "\n",
        "\n",
        "def median_arr(arr):\n",
        "  arr.sort()\n",
        "  median = arr[int(len(arr)/2)]\n",
        "\n",
        "  return median\n",
        "\n",
        "median_arr(arr)\n",
        "\n"
      ],
      "metadata": {
        "id": "joRwiTFNRjso",
        "colab": {
          "base_uri": "https://localhost:8080/",
          "height": 52
        },
        "outputId": "eb55010b-40db-4a48-d816-98fd44faabb5"
      },
      "execution_count": 6,
      "outputs": [
        {
          "name": "stdout",
          "output_type": "stream",
          "text": [
            "Put your list number:1,2,3,4,5,6,7\n"
          ]
        },
        {
          "output_type": "execute_result",
          "data": {
            "text/plain": [
              "'1'"
            ],
            "application/vnd.google.colaboratory.intrinsic+json": {
              "type": "string"
            }
          },
          "metadata": {},
          "execution_count": 6
        }
      ]
    },
    {
      "cell_type": "code",
      "source": [],
      "metadata": {
        "id": "gzO6nfSvbPwO"
      },
      "execution_count": null,
      "outputs": []
    }
  ]
}