{
  "nbformat": 4,
  "nbformat_minor": 0,
  "metadata": {
    "colab": {
      "provenance": [],
      "authorship_tag": "ABX9TyOSHyjOj/MTMQ6N9oa4eY2g",
      "include_colab_link": true
    },
    "kernelspec": {
      "name": "python3",
      "display_name": "Python 3"
    },
    "language_info": {
      "name": "python"
    }
  },
  "cells": [
    {
      "cell_type": "markdown",
      "metadata": {
        "id": "view-in-github",
        "colab_type": "text"
      },
      "source": [
        "<a href=\"https://colab.research.google.com/github/phmouras/MyHackerRank/blob/main/Compare_the_triplets.ipynb\" target=\"_parent\"><img src=\"https://colab.research.google.com/assets/colab-badge.svg\" alt=\"Open In Colab\"/></a>"
      ]
    },
    {
      "cell_type": "code",
      "source": [
        "a = [5, 6, 7]\n",
        "b = [3, 6, 10]\n",
        "\n",
        "\n",
        "def compareTriplets(a, b):\n",
        "    count_a = 0\n",
        "    count_b = 0\n",
        "    for i in range(len(a)):\n",
        "      if a[i] > b[i]:\n",
        "        count_a = count_a + 1\n",
        "      elif a[i] < b[i]:\n",
        "        count_b = count_b + 1\n",
        "      else:\n",
        "        count_a = count_a\n",
        "        count_b = count_b\n",
        "\n",
        "    return count_a, count_b\n",
        "\n",
        "\n",
        "compareTriplets(a, b)"
      ],
      "metadata": {
        "colab": {
          "base_uri": "https://localhost:8080/"
        },
        "id": "vxil32QZPEhs",
        "outputId": "70dbceaa-5dda-435b-8d84-dc113e9e2b17"
      },
      "execution_count": 6,
      "outputs": [
        {
          "output_type": "execute_result",
          "data": {
            "text/plain": [
              "(1, 1)"
            ]
          },
          "metadata": {},
          "execution_count": 6
        }
      ]
    },
    {
      "cell_type": "code",
      "source": [],
      "metadata": {
        "id": "vLOVh9RePyb1"
      },
      "execution_count": null,
      "outputs": []
    }
  ]
}