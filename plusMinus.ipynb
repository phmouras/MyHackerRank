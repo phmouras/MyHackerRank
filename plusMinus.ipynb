{
  "nbformat": 4,
  "nbformat_minor": 0,
  "metadata": {
    "colab": {
      "provenance": [],
      "authorship_tag": "ABX9TyPZiVUeVi7EOBWEkiAf2MV5",
      "include_colab_link": true
    },
    "kernelspec": {
      "name": "python3",
      "display_name": "Python 3"
    },
    "language_info": {
      "name": "python"
    }
  },
  "cells": [
    {
      "cell_type": "markdown",
      "metadata": {
        "id": "view-in-github",
        "colab_type": "text"
      },
      "source": [
        "<a href=\"https://colab.research.google.com/github/phmouras/MyHackerRank/blob/main/plusMinus.ipynb\" target=\"_parent\"><img src=\"https://colab.research.google.com/assets/colab-badge.svg\" alt=\"Open In Colab\"/></a>"
      ]
    },
    {
      "cell_type": "code",
      "execution_count": null,
      "metadata": {
        "id": "OSbq_aFkVmCB"
      },
      "outputs": [],
      "source": [
        "#!/bin/python3\n",
        "\n",
        "import math\n",
        "import os\n",
        "import random\n",
        "import re\n",
        "import sys\n",
        "\n",
        "#\n",
        "# Complete the 'plusMinus' function below.\n",
        "#\n",
        "# The function accepts INTEGER_ARRAY arr as parameter.\n",
        "#\n",
        "\n",
        "def plusMinus(arr):\n",
        "    count_plus = 0\n",
        "    count_minus = 0\n",
        "    count_0 = 0\n",
        "    for i in arr:\n",
        "        if i < 0:\n",
        "            count_minus += 1\n",
        "        elif i > 0:\n",
        "            count_plus += 1\n",
        "        elif i == 0:\n",
        "            count_0 += 1\n",
        "\n",
        "    print(count_plus/len(arr),count_minus/len(arr),count_0/len(arr), sep = '\\n')\n",
        "    # Write your code here\n",
        "\n",
        "if __name__ == '__main__':\n",
        "    n = int(input().strip())\n",
        "\n",
        "    arr = list(map(int, input().rstrip().split()))\n",
        "\n",
        "    plusMinus(arr)\n"
      ]
    }
  ]
}