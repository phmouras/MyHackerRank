{
  "cells": [
    {
      "cell_type": "markdown",
      "metadata": {
        "id": "view-in-github",
        "colab_type": "text"
      },
      "source": [
        "<a href=\"https://colab.research.google.com/github/phmouras/MyHackerRank/blob/main/TimeConversion.ipynb\" target=\"_parent\"><img src=\"https://colab.research.google.com/assets/colab-badge.svg\" alt=\"Open In Colab\"/></a>"
      ]
    },
    {
      "cell_type": "code",
      "execution_count": 91,
      "metadata": {
        "id": "m1u5CiOKOoHb",
        "outputId": "6da82ac3-e572-4dc0-f8e1-37d04e249876",
        "colab": {
          "base_uri": "https://localhost:8080/"
        }
      },
      "outputs": [
        {
          "output_type": "stream",
          "name": "stdout",
          "text": [
            "21:01:00\n"
          ]
        }
      ],
      "source": [
        "#!/bin/python3\n",
        "\n",
        "import math\n",
        "import os\n",
        "import random\n",
        "import re\n",
        "import sys\n",
        "\n",
        "#\n",
        "# Complete the 'timeConversion' function below.\n",
        "#\n",
        "# The function is expected to return a STRING.\n",
        "# The function accepts STRING s as parameter.\n",
        "\n",
        "s = '09:01:00PM'\n",
        "\n",
        "def timeConversion(s):\n",
        "    # Write your code here\n",
        "\n",
        "  if 'AM' == s[8:10]:\n",
        "    sf = s[0:8]\n",
        "    if s[0:2] == \"12\":\n",
        "      s = s.replace(s[0:2], '00')\n",
        "      sf = s[0:8]\n",
        "\n",
        "\n",
        "  if 'PM' == s[8:10] and s[0:2] != '12':\n",
        "       s = s.replace(s[0:2],  str(int(s[0:2]) + 12))\n",
        "       sf = s[0:8]\n",
        "\n",
        "  print(sf)\n",
        "\n",
        "\n",
        "\n",
        "timeConversion(s)\n",
        "\n",
        "\n",
        "\n",
        "\n",
        "\n",
        "#if __name__ == '__main__':\n",
        "#    fptr = open(os.environ['OUTPUT_PATH'], 'w')\n",
        "\n",
        "#    s = input()\n",
        "\n",
        "#    result = timeConversion(s)\n",
        "\n",
        "#    fptr.write(result + '\\n')\n",
        "\n",
        "#    fptr.close()\n",
        "\n"
      ]
    },
    {
      "cell_type": "code",
      "source": [
        "\n",
        "s = list(s)\n",
        "\n",
        "s"
      ],
      "metadata": {
        "id": "rPAnwDSHLQWh",
        "outputId": "6dfa6e3b-7f59-4ef6-d7dd-430536a00dd2",
        "colab": {
          "base_uri": "https://localhost:8080/",
          "height": 36
        }
      },
      "execution_count": 36,
      "outputs": [
        {
          "output_type": "execute_result",
          "data": {
            "text/plain": [
              "'12:01:00AM'"
            ],
            "application/vnd.google.colaboratory.intrinsic+json": {
              "type": "string"
            }
          },
          "metadata": {},
          "execution_count": 36
        }
      ]
    },
    {
      "cell_type": "code",
      "source": [
        "s[0:2] == '12'\n"
      ],
      "metadata": {
        "id": "eCvZ6zZHR9px",
        "outputId": "f96ac4c4-9cb8-430f-af0b-813bf34ce7bf",
        "colab": {
          "base_uri": "https://localhost:8080/"
        }
      },
      "execution_count": 38,
      "outputs": [
        {
          "output_type": "execute_result",
          "data": {
            "text/plain": [
              "True"
            ]
          },
          "metadata": {},
          "execution_count": 38
        }
      ]
    },
    {
      "cell_type": "code",
      "source": [],
      "metadata": {
        "id": "op2J5IyNS-XH"
      },
      "execution_count": null,
      "outputs": []
    }
  ],
  "metadata": {
    "colab": {
      "provenance": [],
      "include_colab_link": true
    },
    "kernelspec": {
      "display_name": "Python 3 (ipykernel)",
      "language": "python",
      "name": "python3"
    },
    "language_info": {
      "codemirror_mode": {
        "name": "ipython",
        "version": 3
      },
      "file_extension": ".py",
      "mimetype": "text/x-python",
      "name": "python",
      "nbconvert_exporter": "python",
      "pygments_lexer": "ipython3",
      "version": "3.10.9"
    }
  },
  "nbformat": 4,
  "nbformat_minor": 0
}