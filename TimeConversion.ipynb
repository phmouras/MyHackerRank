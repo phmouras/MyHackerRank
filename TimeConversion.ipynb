{
  "cells": [
    {
      "cell_type": "markdown",
      "metadata": {
        "id": "view-in-github",
        "colab_type": "text"
      },
      "source": [
        "<a href=\"https://colab.research.google.com/github/phmouras/MyHackerRank/blob/main/TimeConversion.ipynb\" target=\"_parent\"><img src=\"https://colab.research.google.com/assets/colab-badge.svg\" alt=\"Open In Colab\"/></a>"
      ]
    },
    {
      "cell_type": "code",
      "execution_count": 43,
      "metadata": {
        "id": "m1u5CiOKOoHb",
        "colab": {
          "base_uri": "https://localhost:8080/"
        },
        "outputId": "87c134c6-40a0-43e4-f4cd-8c0dff14e9b4"
      },
      "outputs": [
        {
          "output_type": "stream",
          "name": "stdout",
          "text": [
            "19:05:45\n",
            "<class 'str'>\n"
          ]
        }
      ],
      "source": [
        "#!/bin/python3\n",
        "\n",
        "import math\n",
        "import os\n",
        "import random\n",
        "import re\n",
        "import sys\n",
        "import numpy as np\n",
        "\n",
        "#\n",
        "# Complete the 'timeConversion' function below.\n",
        "#\n",
        "# The function is expected to return a STRING.\n",
        "# The function accepts STRING s as parameter.\n",
        "\n",
        "s = '07:05:45PM'\n",
        "\n",
        "def timeConversion(s):\n",
        "    # Write your code here\n",
        "\n",
        "  if 'AM' == s[8:10]:\n",
        "    sf = s[0:8]\n",
        "    if s[0:2] == \"12\":\n",
        "      s = s.replace(s[0:2], '00')\n",
        "      sf = s[0:8]\n",
        "\n",
        "\n",
        "  if 'PM' == s[8:10] and s[0:2] != '12':\n",
        "       s = s.replace(s[0:2],  str(int(s[0:2]) + 12))\n",
        "       sf = s[0:8]\n",
        "\n",
        "  print(f'{sf}')\n",
        "  print(type(sf))\n",
        "\n",
        "\n",
        "timeConversion(s)\n",
        "\n"
      ]
    },
    {
      "cell_type": "code",
      "source": [
        "s = '07:05:45PM'\n",
        "\n",
        "type(s)"
      ],
      "metadata": {
        "colab": {
          "base_uri": "https://localhost:8080/"
        },
        "id": "rPAnwDSHLQWh",
        "outputId": "5405a77d-02c7-4f8f-de8e-cb32b78a2df5"
      },
      "execution_count": 36,
      "outputs": [
        {
          "output_type": "execute_result",
          "data": {
            "text/plain": [
              "str"
            ]
          },
          "metadata": {},
          "execution_count": 36
        }
      ]
    },
    {
      "cell_type": "code",
      "source": [
        "s[0:2] == '12'\n"
      ],
      "metadata": {
        "colab": {
          "base_uri": "https://localhost:8080/"
        },
        "id": "eCvZ6zZHR9px",
        "outputId": "f96ac4c4-9cb8-430f-af0b-813bf34ce7bf"
      },
      "execution_count": null,
      "outputs": [
        {
          "output_type": "execute_result",
          "data": {
            "text/plain": [
              "True"
            ]
          },
          "metadata": {},
          "execution_count": 38
        }
      ]
    },
    {
      "cell_type": "code",
      "source": [],
      "metadata": {
        "id": "op2J5IyNS-XH"
      },
      "execution_count": null,
      "outputs": []
    }
  ],
  "metadata": {
    "colab": {
      "provenance": [],
      "include_colab_link": true
    },
    "kernelspec": {
      "display_name": "Python 3 (ipykernel)",
      "language": "python",
      "name": "python3"
    },
    "language_info": {
      "codemirror_mode": {
        "name": "ipython",
        "version": 3
      },
      "file_extension": ".py",
      "mimetype": "text/x-python",
      "name": "python",
      "nbconvert_exporter": "python",
      "pygments_lexer": "ipython3",
      "version": "3.10.9"
    }
  },
  "nbformat": 4,
  "nbformat_minor": 0
}