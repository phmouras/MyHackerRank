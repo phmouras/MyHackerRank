{
  "nbformat": 4,
  "nbformat_minor": 0,
  "metadata": {
    "colab": {
      "provenance": [],
      "authorship_tag": "ABX9TyMqvfHlzYWNB16jtSeVLYM8",
      "include_colab_link": true
    },
    "kernelspec": {
      "name": "python3",
      "display_name": "Python 3"
    },
    "language_info": {
      "name": "python"
    }
  },
  "cells": [
    {
      "cell_type": "markdown",
      "metadata": {
        "id": "view-in-github",
        "colab_type": "text"
      },
      "source": [
        "<a href=\"https://colab.research.google.com/github/phmouras/MyHackerRank/blob/main/CountingSort.ipynb\" target=\"_parent\"><img src=\"https://colab.research.google.com/assets/colab-badge.svg\" alt=\"Open In Colab\"/></a>"
      ]
    },
    {
      "cell_type": "code",
      "execution_count": 12,
      "metadata": {
        "colab": {
          "base_uri": "https://localhost:8080/"
        },
        "id": "SvUcZQI-IOxh",
        "outputId": "4fd2f0ef-1a20-40c0-cd6e-ff4c9cf08b05"
      },
      "outputs": [
        {
          "output_type": "execute_result",
          "data": {
            "text/plain": [
              "[0, 3, 1, 1]"
            ]
          },
          "metadata": {},
          "execution_count": 12
        }
      ],
      "source": [
        "\n",
        "arr = [1,1,3,2,1]\n",
        "\n",
        "def countingSort(arr):\n",
        "    # Write your code here\n",
        "    freq_array = [x*0 for x in range(max(arr)+1)]\n",
        "    for i in arr:\n",
        "        freq_array[i] += 1\n",
        "    return freq_array\n",
        "\n",
        "countingSort(arr)"
      ]
    },
    {
      "cell_type": "code",
      "source": [],
      "metadata": {
        "id": "BAkrxCLbJwzm"
      },
      "execution_count": null,
      "outputs": []
    }
  ]
}