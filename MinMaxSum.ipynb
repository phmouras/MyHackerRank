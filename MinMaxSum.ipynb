{
  "cells": [
    {
      "cell_type": "markdown",
      "metadata": {
        "id": "view-in-github",
        "colab_type": "text"
      },
      "source": [
        "<a href=\"https://colab.research.google.com/github/phmouras/MyHackerRank/blob/main/MinMaxSum.ipynb\" target=\"_parent\"><img src=\"https://colab.research.google.com/assets/colab-badge.svg\" alt=\"Open In Colab\"/></a>"
      ]
    },
    {
      "cell_type": "code",
      "execution_count": null,
      "metadata": {
        "colab": {
          "base_uri": "https://localhost:8080/",
          "height": 321
        },
        "id": "m1u5CiOKOoHb",
        "outputId": "b7270f53-80a8-421b-a7b4-462198385496"
      },
      "outputs": [
        {
          "name": "stdout",
          "output_type": "stream",
          "text": [
            "16 24\n"
          ]
        }
      ],
      "source": [
        "#!/bin/python3\n",
        "\n",
        "import math\n",
        "import os\n",
        "import random\n",
        "import re\n",
        "import sys\n",
        "\n",
        "#\n",
        "# Complete the 'miniMaxSum' function below.\n",
        "#\n",
        "# The function accepts INTEGER_ARRAY arr as parameter.\n",
        "#\n",
        "\n",
        "arr = [1,3,5,7,9]\n",
        "sum_list = []\n",
        "\n",
        "def miniMaxSum(arr):\n",
        "  n = 0\n",
        "  nf = 20\n",
        "  while n<nf:\n",
        "    new_arr = random.sample(arr,4)\n",
        "    soma = 0\n",
        "    for i in new_arr:\n",
        "      soma += i\n",
        "    sum_list.append(soma)\n",
        "    n += 1\n",
        "\n",
        "\n",
        "  for j in sum_list:\n",
        "\n",
        "     if j == max(sum_list):\n",
        "        max_sum = j\n",
        "\n",
        "     elif j == min(sum_list):\n",
        "        min_sum = j\n",
        "\n",
        "  print(min_sum, max_sum, sep = ' ')\n",
        "\n",
        "\n",
        "\n",
        "\n",
        "miniMaxSum(arr)"
      ]
    },
    {
      "cell_type": "code",
      "execution_count": null,
      "metadata": {
        "colab": {
          "base_uri": "https://localhost:8080/"
        },
        "id": "YTpMj7pNg9wo",
        "outputId": "e7d72600-3216-4163-e984-3cd3e562582d"
      },
      "outputs": [
        {
          "data": {
            "text/plain": [
              "[22,\n",
              " 16,\n",
              " 16,\n",
              " 22,\n",
              " 16,\n",
              " 18,\n",
              " 20,\n",
              " 22,\n",
              " 16,\n",
              " 24,\n",
              " 20,\n",
              " 18,\n",
              " 18,\n",
              " 20,\n",
              " 20,\n",
              " 24,\n",
              " 16,\n",
              " 16,\n",
              " 20,\n",
              " 18]"
            ]
          },
          "execution_count": 16,
          "metadata": {},
          "output_type": "execute_result"
        }
      ],
      "source": [
        "sum_list"
      ]
    },
    {
      "cell_type": "code",
      "execution_count": null,
      "metadata": {
        "id": "HxDNp4kkFMKT"
      },
      "outputs": [],
      "source": []
    }
  ],
  "metadata": {
    "colab": {
      "provenance": [],
      "include_colab_link": true
    },
    "kernelspec": {
      "display_name": "Python 3 (ipykernel)",
      "language": "python",
      "name": "python3"
    },
    "language_info": {
      "codemirror_mode": {
        "name": "ipython",
        "version": 3
      },
      "file_extension": ".py",
      "mimetype": "text/x-python",
      "name": "python",
      "nbconvert_exporter": "python",
      "pygments_lexer": "ipython3",
      "version": "3.10.9"
    }
  },
  "nbformat": 4,
  "nbformat_minor": 0
}