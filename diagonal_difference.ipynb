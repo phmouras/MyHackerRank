{
  "nbformat": 4,
  "nbformat_minor": 0,
  "metadata": {
    "colab": {
      "provenance": [],
      "authorship_tag": "ABX9TyNCRtFhv80ABMuQUVHgqk9L",
      "include_colab_link": true
    },
    "kernelspec": {
      "name": "python3",
      "display_name": "Python 3"
    },
    "language_info": {
      "name": "python"
    }
  },
  "cells": [
    {
      "cell_type": "markdown",
      "metadata": {
        "id": "view-in-github",
        "colab_type": "text"
      },
      "source": [
        "<a href=\"https://colab.research.google.com/github/phmouras/MyHackerRank/blob/main/diagonal_difference.ipynb\" target=\"_parent\"><img src=\"https://colab.research.google.com/assets/colab-badge.svg\" alt=\"Open In Colab\"/></a>"
      ]
    },
    {
      "cell_type": "code",
      "execution_count": 36,
      "metadata": {
        "colab": {
          "base_uri": "https://localhost:8080/"
        },
        "id": "bOM7VJvSVGUd",
        "outputId": "68f0a20c-9107-4968-a8ea-98e2df78840c"
      },
      "outputs": [
        {
          "output_type": "execute_result",
          "data": {
            "text/plain": [
              "15"
            ]
          },
          "metadata": {},
          "execution_count": 36
        }
      ],
      "source": [
        "import numpy as np\n",
        "\n",
        "arr = [[11, 2, 4],\n",
        "[4, 5, 6],\n",
        "[10, 8, -12]]\n",
        "\n",
        "\n",
        "def diagonalDifference(arr):\n",
        "    sum_diag_r = 0\n",
        "    sum_diag_l = 0\n",
        "    for i in range(len(arr)):\n",
        "      for j in range(len(arr)):\n",
        "        if i == j:\n",
        "          sum_diag_r += arr[i][j]\n",
        "        if i + j == 2:\n",
        "          sum_diag_l += arr[i][j]\n",
        "\n",
        "    return abs(sum_diag_r - sum_diag_l)\n",
        "\n",
        "diagonalDifference(arr)"
      ]
    }
  ]
}